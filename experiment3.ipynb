{
 "cells": [
  {
   "cell_type": "code",
   "execution_count": null,
   "metadata": {},
   "outputs": [],
   "source": [
    "import torch\n",
    "import torchvision.transforms as transforms\n",
    "\n",
    "from datasets.weed_dataset import WeedDataset\n",
    "from models.cnn_extractor import CNN_Model\n",
    "from utils.train_cnn import train_cnn"
   ]
  },
  {
   "cell_type": "code",
   "execution_count": null,
   "metadata": {},
   "outputs": [],
   "source": [
    "# Defining as global the device to use (by default CPU).\n",
    "device = torch.device('cuda' if torch.cuda.is_available() else 'cpu')"
   ]
  },
  {
   "cell_type": "code",
   "execution_count": null,
   "metadata": {},
   "outputs": [],
   "source": [
    "torch.cuda.empty_cache()\n",
    "\n",
    "batch_size = 32\n",
    "n_epochs = 20\n",
    "learningRate = 1e-3\n",
    "decay = 1e-5\n",
    "\n",
    "# torch.nn.CrossEntropyLoss applies the softmax to the predictions by the model.\n",
    "cost_function = torch.nn.CrossEntropyLoss()\n",
    "model = CNN_Model()\n",
    "\n",
    "# Basic SGD Optimizer.\n",
    "optimizer = torch.optim.Adam(model.parameters(), lr = learningRate, weight_decay=decay)\n",
    "\n",
    "\n",
    "\n",
    "transform = transforms.Compose([transforms.Resize((224, 224)),\n",
    "                                transforms.ToTensor(), ])\n",
    "\n",
    "dataset = WeedDataset(\"radish weed datasets\", transform = transform)\n",
    "trainset, valset = torch.utils.data.random_split(dataset, [0.8, 0.2])\n",
    "\n",
    "train_loader = torch.utils.data.DataLoader(trainset,\n",
    "                                           batch_size = batch_size,\n",
    "                                           shuffle = True,\n",
    "                                           pin_memory = True,\n",
    "                                           num_workers = 2)\n",
    "val_loader = torch.utils.data.DataLoader(valset,\n",
    "                                         batch_size = batch_size,\n",
    "                                         shuffle = False)\n",
    "\n",
    "train_cnn(n_epochs, model, cost_function, optimizer, -1, train_loader, val_loader, save_name=\"radish\", device=device)"
   ]
  }
 ],
 "metadata": {
  "language_info": {
   "name": "python"
  }
 },
 "nbformat": 4,
 "nbformat_minor": 2
}
