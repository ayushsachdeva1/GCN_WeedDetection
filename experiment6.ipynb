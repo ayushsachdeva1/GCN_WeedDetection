{
 "cells": [
  {
   "cell_type": "code",
   "execution_count": null,
   "metadata": {},
   "outputs": [],
   "source": [
    "import torch\n",
    "import torchvision.transforms as transforms\n",
    "import numpy as np\n",
    "\n",
    "from datasets.weed_dataset import WeedDataset\n",
    "from models.cnn_extractor import CNN_Model\n",
    "from utils.train_gcn import train_gcn\n",
    "from utils.graph_utils import generate_feature_relationship_matrix, get_laplacian"
   ]
  },
  {
   "cell_type": "code",
   "execution_count": null,
   "metadata": {},
   "outputs": [],
   "source": [
    "# Defining as global the device to use (by default CPU).\n",
    "device = torch.device('cuda' if torch.cuda.is_available() else 'cpu')"
   ]
  },
  {
   "cell_type": "code",
   "execution_count": null,
   "metadata": {},
   "outputs": [],
   "source": [
    "cnn_model = CNN_Model()\n",
    "cnn_model.load_state_dict(torch.load('checkpoints/best_lettuce_model_so_far.pth'))\n",
    "\n",
    "transform = transforms.Compose([transforms.Resize((224, 224)),\n",
    "                                transforms.ToTensor(), ])\n",
    "\n",
    "dataset = WeedDataset(\"lettuce weed datasets\", transform = transform)\n",
    "trainset, testset = torch.utils.data.random_split(dataset, [0.8, 0.2])\n",
    "\n",
    "dist, features, labels, idx_train, idx_val = generate_feature_relationship_matrix(trainset, testset, cnn_model)\n",
    "\n",
    "adj = torch.from_numpy(np.float32(get_laplacian(1/dist)))"
   ]
  },
  {
   "cell_type": "code",
   "execution_count": null,
   "metadata": {},
   "outputs": [],
   "source": [
    "train_gcn(features, adj, labels, idx_train, idx_val, device=device, epochs=20000, lr=0.0001, save_name=\"lettuce_\")"
   ]
  }
 ],
 "metadata": {
  "language_info": {
   "name": "python"
  }
 },
 "nbformat": 4,
 "nbformat_minor": 2
}
